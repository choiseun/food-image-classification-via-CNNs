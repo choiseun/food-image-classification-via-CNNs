{
 "cells": [
  {
   "cell_type": "markdown",
   "metadata": {},
   "source": [
    "### Data Cleaning, EDA & Data Visualization"
   ]
  },
  {
   "cell_type": "code",
   "execution_count": 1,
   "metadata": {},
   "outputs": [],
   "source": [
    "# imports\n",
    "import matplotlib.pyplot as plt\n",
    "import numpy as np\n",
    "import os\n",
    "import pandas as pd\n",
    "from tensorflow.keras.layers import Dense, Dropout, Flatten, Conv2D, MaxPooling2D\n",
    "from tensorflow.keras.models import Sequential\n",
    "from tensorflow.keras.preprocessing.image import img_to_array, load_img\n",
    "from sklearn.model_selection import train_test_split\n",
    "\n",
    "# For reproducibility\n",
    "np.random.seed(42)"
   ]
  },
  {
   "cell_type": "code",
   "execution_count": null,
   "metadata": {},
   "outputs": [],
   "source": [
    "# Define a function that returns all processed im"
   ]
  },
  {
   "cell_type": "code",
   "execution_count": 2,
   "metadata": {},
   "outputs": [
    {
     "name": "stdout",
     "output_type": "stream",
     "text": [
      "Error for file: .DS_Store\n",
      "Error for file: burgers\n",
      "Error for file: pasta\n",
      "Error for file: hotdogs\n",
      "Error for file: sushi\n",
      "Error for file: pizza\n",
      "0 pictures converted.\n"
     ]
    }
   ],
   "source": [
    "# create list\n",
    "image_arrays = []\n",
    "\n",
    "# define filepath for image class\n",
    "image_path = '../images/'\n",
    "\n",
    "# convert each image to normalized array and store\n",
    "for file in os.listdir(image_path):\n",
    "    try:\n",
    "        # target_size automatically resizes each img on import\n",
    "        image = load_img(image_path + file, target_size=(256, 256))\n",
    "        image_arr = img_to_array(image) / 255\n",
    "        image_arrays.append(image_arr)\n",
    "    except:\n",
    "        print(f'Error for file: {file}')\n",
    "\n",
    "# 467 out of 468 images converted\n",
    "print(f'{len(image_arrays)} pictures converted.')"
   ]
  },
  {
   "cell_type": "code",
   "execution_count": 3,
   "metadata": {},
   "outputs": [
    {
     "name": "stdout",
     "output_type": "stream",
     "text": [
      "X shape: (0,)\n"
     ]
    }
   ],
   "source": [
    "X = image_arrays\n",
    "X_arr = np.array(X)\n",
    "print(f'X shape: {X_arr.shape}')"
   ]
  },
  {
   "cell_type": "code",
   "execution_count": null,
   "metadata": {},
   "outputs": [],
   "source": []
  },
  {
   "cell_type": "code",
   "execution_count": null,
   "metadata": {},
   "outputs": [],
   "source": []
  }
 ],
 "metadata": {
  "kernelspec": {
   "display_name": "Python 3",
   "language": "python",
   "name": "python3"
  },
  "language_info": {
   "codemirror_mode": {
    "name": "ipython",
    "version": 3
   },
   "file_extension": ".py",
   "mimetype": "text/x-python",
   "name": "python",
   "nbconvert_exporter": "python",
   "pygments_lexer": "ipython3",
   "version": "3.8.5"
  }
 },
 "nbformat": 4,
 "nbformat_minor": 4
}
