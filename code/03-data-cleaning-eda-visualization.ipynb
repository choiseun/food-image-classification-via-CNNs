{
 "cells": [
  {
   "cell_type": "markdown",
   "metadata": {},
   "source": [
    "### Data Cleaning, EDA & Data Visualization"
   ]
  },
  {
   "cell_type": "markdown",
   "metadata": {},
   "source": [
    "Referenced: https://git.generalassemb.ly/DSIR-Lancelot/8.04-lesson-cnns/blob/master/solution-code/02-cnn.ipynb"
   ]
  },
  {
   "cell_type": "code",
   "execution_count": 1,
   "metadata": {},
   "outputs": [],
   "source": [
    "# Imports\n",
    "import matplotlib.pyplot as plt\n",
    "import numpy as np\n",
    "import os\n",
    "import pandas as pd\n",
    "from tensorflow.keras.layers import Dense, Dropout, Flatten, Conv2D, MaxPooling2D\n",
    "from tensorflow.keras.models import Sequential\n",
    "from tensorflow.keras.preprocessing.image import img_to_array, load_img\n",
    "from sklearn.model_selection import train_test_split\n",
    "\n",
    "# For reproducibility\n",
    "np.random.seed(42)"
   ]
  },
  {
   "cell_type": "code",
   "execution_count": 2,
   "metadata": {},
   "outputs": [],
   "source": [
    "# Create a list for each food class\n",
    "burgers_arrays = []\n",
    "hotdogs_arrays = []\n",
    "pizza_arrays = []\n",
    "pasta_arrays = []\n",
    "sushi_arrays = []\n",
    "\n",
    "# Create a list of all food class arrays\n",
    "class_arrays = [burgers_arrays, hotdogs_arrays, pizza_arrays, pasta_arrays, sushi_arrays]\n",
    "\n",
    "# Create a list of strings containing the food classes\n",
    "food_classes = ['burgers', 'hotdogs', 'pizza', 'pasta', 'sushi']"
   ]
  },
  {
   "cell_type": "code",
   "execution_count": 3,
   "metadata": {},
   "outputs": [],
   "source": [
    "# Define a function that converts all images\n",
    "def image_converter(food_arrays, food_class):\n",
    "    food_path = f'../images/{food_class}/'\n",
    "    for file in os.listdir(food_path):\n",
    "        try:\n",
    "            image = load_img(food_path + file, target_size=(256, 256))\n",
    "            image_arr = img_to_array(image) / 255\n",
    "            food_arrays.append(image_arr)\n",
    "        except:\n",
    "            print(f'Error for file: {file}')\n",
    "    print(f'{len(food_arrays)} pictures have been converted for {food_class}.')"
   ]
  },
  {
   "cell_type": "code",
   "execution_count": 4,
   "metadata": {},
   "outputs": [
    {
     "name": "stdout",
     "output_type": "stream",
     "text": [
      "Error for file: .DS_Store\n",
      "119 pictures have been converted for burgers.\n",
      "Error for file: .DS_Store\n",
      "96 pictures have been converted for hotdogs.\n",
      "Error for file: .DS_Store\n",
      "86 pictures have been converted for pizza.\n",
      "Error for file: .DS_Store\n",
      "73 pictures have been converted for pasta.\n",
      "Error for file: .DS_Store\n",
      "100 pictures have been converted for sushi.\n"
     ]
    }
   ],
   "source": [
    "# Iterate through the image_converter function\n",
    "my_index = 0\n",
    "for food_class in class_arrays:\n",
    "    image_converter(food_class, food_classes[my_index])\n",
    "    my_index += 1"
   ]
  },
  {
   "cell_type": "code",
   "execution_count": 5,
   "metadata": {},
   "outputs": [
    {
     "name": "stdout",
     "output_type": "stream",
     "text": [
      "X shape: (474, 256, 256, 3)\n"
     ]
    }
   ],
   "source": [
    "# Define X\n",
    "X = burgers_arrays + hotdogs_arrays + pizza_arrays + pasta_arrays + sushi_arrays\n",
    "X_arr = np.array(X)\n",
    "print(f'X shape: {X_arr.shape}')"
   ]
  },
  {
   "cell_type": "code",
   "execution_count": 7,
   "metadata": {},
   "outputs": [
    {
     "name": "stdout",
     "output_type": "stream",
     "text": [
      "y shape: (474,)\n"
     ]
    }
   ],
   "source": [
    "# Define y\n",
    "# 0 for burger, 1 for hotdog, 2 for pizza, 3 for pasta, 4 for sushi\n",
    "y = [0]*119 + [1]*96 + [2]*86 + [3]*73 + [4]*100\n",
    "y = np.array(y)\n",
    "print(f'y shape: {y.shape}')"
   ]
  },
  {
   "cell_type": "code",
   "execution_count": 8,
   "metadata": {},
   "outputs": [],
   "source": [
    "# Train/test split\n",
    "X_train, X_test, y_train, y_test = train_test_split(X, y, random_state=42, stratify=y)"
   ]
  },
  {
   "cell_type": "code",
   "execution_count": 13,
   "metadata": {},
   "outputs": [],
   "source": [
    "# Reshape\n",
    "X_train = np.array(X_train)\n",
    "X_test = np.array(X_test)"
   ]
  },
  {
   "cell_type": "code",
   "execution_count": 14,
   "metadata": {},
   "outputs": [
    {
     "data": {
      "text/plain": [
       "(256, 256, 3)"
      ]
     },
     "execution_count": 14,
     "metadata": {},
     "output_type": "execute_result"
    }
   ],
   "source": [
    "# Check shape\n",
    "X_train[0].shape"
   ]
  },
  {
   "cell_type": "code",
   "execution_count": 15,
   "metadata": {},
   "outputs": [
    {
     "data": {
      "text/plain": [
       "(355,)"
      ]
     },
     "execution_count": 15,
     "metadata": {},
     "output_type": "execute_result"
    }
   ],
   "source": [
    "# Check shape\n",
    "y_train.shape"
   ]
  },
  {
   "cell_type": "markdown",
   "metadata": {},
   "source": [
    "### Modeling"
   ]
  },
  {
   "cell_type": "code",
   "execution_count": 20,
   "metadata": {},
   "outputs": [
    {
     "name": "stdout",
     "output_type": "stream",
     "text": [
      "Epoch 1/10\n",
      "45/45 [==============================] - 43s 909ms/step - loss: 0.0000e+00 - acc: 0.1977 - recall: 1.0000 - precision: 0.7601 - val_loss: 0.0000e+00 - val_acc: 0.2017 - val_recall: 1.0000 - val_precision: 0.7479\n",
      "Epoch 2/10\n",
      "45/45 [==============================] - 48s 1s/step - loss: 0.0000e+00 - acc: 0.2073 - recall: 1.0000 - precision: 0.7653 - val_loss: 0.0000e+00 - val_acc: 0.2017 - val_recall: 1.0000 - val_precision: 0.7479\n",
      "Epoch 3/10\n",
      "45/45 [==============================] - 37s 827ms/step - loss: 0.0000e+00 - acc: 0.2085 - recall: 1.0000 - precision: 0.7642 - val_loss: 0.0000e+00 - val_acc: 0.2017 - val_recall: 1.0000 - val_precision: 0.7479\n",
      "Epoch 4/10\n",
      "45/45 [==============================] - 37s 818ms/step - loss: 0.0000e+00 - acc: 0.2276 - recall: 1.0000 - precision: 0.7622 - val_loss: 0.0000e+00 - val_acc: 0.2017 - val_recall: 1.0000 - val_precision: 0.7479\n",
      "Epoch 5/10\n",
      "45/45 [==============================] - 45s 1s/step - loss: 0.0000e+00 - acc: 0.2098 - recall: 1.0000 - precision: 0.7491 - val_loss: 0.0000e+00 - val_acc: 0.2017 - val_recall: 1.0000 - val_precision: 0.7479\n",
      "Epoch 6/10\n",
      "45/45 [==============================] - 37s 814ms/step - loss: 0.0000e+00 - acc: 0.2360 - recall: 1.0000 - precision: 0.7394 - val_loss: 0.0000e+00 - val_acc: 0.2017 - val_recall: 1.0000 - val_precision: 0.7479\n",
      "Epoch 7/10\n",
      "45/45 [==============================] - 37s 811ms/step - loss: 0.0000e+00 - acc: 0.1931 - recall: 1.0000 - precision: 0.6933 - val_loss: 0.0000e+00 - val_acc: 0.2017 - val_recall: 1.0000 - val_precision: 0.7479\n",
      "Epoch 8/10\n",
      "45/45 [==============================] - 37s 824ms/step - loss: 0.0000e+00 - acc: 0.2208 - recall: 1.0000 - precision: 0.7774 - val_loss: 0.0000e+00 - val_acc: 0.2017 - val_recall: 1.0000 - val_precision: 0.7479\n",
      "Epoch 9/10\n",
      "45/45 [==============================] - 39s 869ms/step - loss: 0.0000e+00 - acc: 0.1832 - recall: 1.0000 - precision: 0.7183 - val_loss: 0.0000e+00 - val_acc: 0.2017 - val_recall: 1.0000 - val_precision: 0.7479\n",
      "Epoch 10/10\n",
      "45/45 [==============================] - 37s 823ms/step - loss: 0.0000e+00 - acc: 0.2054 - recall: 1.0000 - precision: 0.7112 - val_loss: 0.0000e+00 - val_acc: 0.2017 - val_recall: 1.0000 - val_precision: 0.7479\n"
     ]
    }
   ],
   "source": [
    "model = Sequential([\n",
    "    Conv2D(64, (3,3), activation='relu', input_shape=(X_train[0].shape)),\n",
    "    MaxPooling2D(pool_size=(2,2)),\n",
    "    Conv2D(64, (3,3), activation='relu'),\n",
    "    MaxPooling2D(pool_size=(2,2)),\n",
    "    Flatten(),\n",
    "    Dense(64, activation='relu'),\n",
    "    Dense(1, activation='softmax')\n",
    "])\n",
    "\n",
    "model.compile(optimizer='adam', loss='categorical_crossentropy', \n",
    "              metrics=['acc', 'Recall', 'Precision'])\n",
    "\n",
    "results = model.fit(X_train, y_train, validation_data=(X_test, y_test),\n",
    "                   batch_size=8, epochs=10)"
   ]
  },
  {
   "cell_type": "code",
   "execution_count": null,
   "metadata": {},
   "outputs": [],
   "source": [
    "# Image Data Augmentation"
   ]
  }
 ],
 "metadata": {
  "kernelspec": {
   "display_name": "Python 3",
   "language": "python",
   "name": "python3"
  },
  "language_info": {
   "codemirror_mode": {
    "name": "ipython",
    "version": 3
   },
   "file_extension": ".py",
   "mimetype": "text/x-python",
   "name": "python",
   "nbconvert_exporter": "python",
   "pygments_lexer": "ipython3",
   "version": "3.8.5"
  }
 },
 "nbformat": 4,
 "nbformat_minor": 4
}
