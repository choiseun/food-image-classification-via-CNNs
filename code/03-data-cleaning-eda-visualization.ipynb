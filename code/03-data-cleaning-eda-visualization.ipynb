{
 "cells": [
  {
   "cell_type": "markdown",
   "metadata": {},
   "source": [
    "### Data Cleaning, EDA & Data Visualization"
   ]
  },
  {
   "cell_type": "markdown",
   "metadata": {},
   "source": [
    "Referenced: https://git.generalassemb.ly/DSIR-Lancelot/8.04-lesson-cnns/blob/master/solution-code/02-cnn.ipynb"
   ]
  },
  {
   "cell_type": "code",
   "execution_count": 1,
   "metadata": {},
   "outputs": [],
   "source": [
    "# Imports\n",
    "import numpy as np\n",
    "import pandas as pd\n",
    "import matplotlib.pyplot as plt\n",
    "import os\n",
    "from tensorflow.keras.models import Sequential\n",
    "from sklearn.model_selection import train_test_split\n",
    "from tensorflow.keras.layers import Dense, Dropout, Flatten, Conv2D, MaxPooling2D\n",
    "from tensorflow.keras.preprocessing.image import img_to_array, load_img\n",
    "from tensorflow.keras.utils import to_categorical\n",
    "\n",
    "# For reproducibility\n",
    "np.random.seed(42)"
   ]
  },
  {
   "cell_type": "code",
   "execution_count": 2,
   "metadata": {},
   "outputs": [],
   "source": [
    "# Create a list for each food class\n",
    "burgers_arrays = []\n",
    "hotdogs_arrays = []\n",
    "pizza_arrays = []\n",
    "pasta_arrays = []\n",
    "sushi_arrays = []\n",
    "\n",
    "# Create a list of all food class arrays\n",
    "class_arrays = [burgers_arrays, hotdogs_arrays, pizza_arrays, pasta_arrays, sushi_arrays]\n",
    "\n",
    "# Create a list of strings containing the food classes\n",
    "food_classes = ['burgers', 'hotdogs', 'pizza', 'pasta', 'sushi']"
   ]
  },
  {
   "cell_type": "code",
   "execution_count": 3,
   "metadata": {},
   "outputs": [],
   "source": [
    "# Define a function that converts all images\n",
    "def image_converter(food_arrays, food_class):\n",
    "    food_path = f'../images/{food_class}/'\n",
    "    for file in os.listdir(food_path):\n",
    "        try:\n",
    "            image = load_img(food_path + file, target_size=(256, 256))\n",
    "            image_arr = img_to_array(image) / 255\n",
    "            food_arrays.append(image_arr)\n",
    "        except:\n",
    "            print(f'Error for file: {file}')\n",
    "    print(f'{len(food_arrays)} pictures have been converted for {food_class}.')"
   ]
  },
  {
   "cell_type": "code",
   "execution_count": 4,
   "metadata": {},
   "outputs": [
    {
     "name": "stdout",
     "output_type": "stream",
     "text": [
      "Error for file: .DS_Store\n",
      "217 pictures have been converted for burgers.\n",
      "Error for file: .DS_Store\n",
      "263 pictures have been converted for hotdogs.\n",
      "Error for file: .DS_Store\n",
      "269 pictures have been converted for pizza.\n",
      "Error for file: .DS_Store\n",
      "218 pictures have been converted for pasta.\n",
      "Error for file: .DS_Store\n",
      "273 pictures have been converted for sushi.\n"
     ]
    }
   ],
   "source": [
    "# Iterate through the image_converter function\n",
    "my_index = 0\n",
    "for food_class in class_arrays:\n",
    "    image_converter(food_class, food_classes[my_index])\n",
    "    my_index += 1"
   ]
  },
  {
   "cell_type": "code",
   "execution_count": 5,
   "metadata": {},
   "outputs": [
    {
     "data": {
      "text/plain": [
       "(1240, 256, 256, 3)"
      ]
     },
     "execution_count": 5,
     "metadata": {},
     "output_type": "execute_result"
    }
   ],
   "source": [
    "# Define X\n",
    "X = burgers_arrays + hotdogs_arrays + pizza_arrays + pasta_arrays + sushi_arrays\n",
    "X = np.array(X)\n",
    "X.shape"
   ]
  },
  {
   "cell_type": "code",
   "execution_count": 11,
   "metadata": {},
   "outputs": [
    {
     "data": {
      "text/plain": [
       "(1240, 5)"
      ]
     },
     "execution_count": 11,
     "metadata": {},
     "output_type": "execute_result"
    }
   ],
   "source": [
    "# Define y\n",
    "# 0 for burger, 1 for hotdog, 2 for pizza, 3 for pasta, 4 for sushi\n",
    "y = [0]*217 + [1]*263 + [2]*269 + [3]*218 + [4]*273\n",
    "y = np.array(y)\n",
    "y = to_categorical(y)\n",
    "y.shape"
   ]
  },
  {
   "cell_type": "code",
   "execution_count": 12,
   "metadata": {},
   "outputs": [
    {
     "data": {
      "text/plain": [
       "0.22016129032258064"
      ]
     },
     "execution_count": 12,
     "metadata": {},
     "output_type": "execute_result"
    }
   ],
   "source": [
    "# Baseline accuracy of majority class\n",
    "273/(217+263+269+218+273)"
   ]
  },
  {
   "cell_type": "code",
   "execution_count": 13,
   "metadata": {},
   "outputs": [],
   "source": [
    "# Train/test split\n",
    "X_train, X_test, y_train, y_test = train_test_split(X, y, random_state=42, stratify=y)"
   ]
  },
  {
   "cell_type": "code",
   "execution_count": 14,
   "metadata": {},
   "outputs": [],
   "source": [
    "# Reshape\n",
    "X_train = np.array(X_train)\n",
    "X_test = np.array(X_test)"
   ]
  },
  {
   "cell_type": "code",
   "execution_count": 15,
   "metadata": {},
   "outputs": [
    {
     "data": {
      "text/plain": [
       "(256, 256, 3)"
      ]
     },
     "execution_count": 15,
     "metadata": {},
     "output_type": "execute_result"
    }
   ],
   "source": [
    "# Check shape\n",
    "X_train[0].shape"
   ]
  },
  {
   "cell_type": "code",
   "execution_count": 16,
   "metadata": {},
   "outputs": [
    {
     "data": {
      "text/plain": [
       "(930, 5)"
      ]
     },
     "execution_count": 16,
     "metadata": {},
     "output_type": "execute_result"
    }
   ],
   "source": [
    "# Check shape\n",
    "y_train.shape"
   ]
  },
  {
   "cell_type": "markdown",
   "metadata": {},
   "source": [
    "### Modeling"
   ]
  },
  {
   "cell_type": "code",
   "execution_count": 17,
   "metadata": {},
   "outputs": [
    {
     "name": "stdout",
     "output_type": "stream",
     "text": [
      "Epoch 1/3\n",
      "117/117 [==============================] - 170s 1s/step - loss: 2.1012 - acc: 0.2232 - recall: 0.0282 - precision: 0.3253 - val_loss: 1.7042 - val_acc: 0.2194 - val_recall: 0.0065 - val_precision: 1.0000\n",
      "Epoch 2/3\n",
      "117/117 [==============================] - 164s 1s/step - loss: 1.5882 - acc: 0.2611 - recall: 0.0136 - precision: 0.3540 - val_loss: 1.7163 - val_acc: 0.2355 - val_recall: 0.0742 - val_precision: 0.4259\n",
      "Epoch 3/3\n",
      "117/117 [==============================] - 151s 1s/step - loss: 1.2834 - acc: 0.4874 - recall: 0.1881 - precision: 0.7268 - val_loss: 1.6135 - val_acc: 0.3097 - val_recall: 0.0710 - val_precision: 0.5000\n"
     ]
    }
   ],
   "source": [
    "model = Sequential([\n",
    "    Conv2D(64, (4,4), activation='relu', input_shape=(X_train[0].shape)),\n",
    "    MaxPooling2D(pool_size=(2,2)),\n",
    "    Conv2D(64, (4,4), activation='relu'),\n",
    "    MaxPooling2D(pool_size=(2,2)),\n",
    "    Flatten(),\n",
    "    Dense(64, activation='relu'),\n",
    "    Dense(5, activation='softmax')\n",
    "])\n",
    "\n",
    "model.compile(optimizer='adam', loss='categorical_crossentropy', \n",
    "              metrics=['acc', 'Recall', 'Precision'])\n",
    "\n",
    "results = model.fit(X_train, y_train, validation_data=(X_test, y_test),\n",
    "                   batch_size=8, epochs=3)"
   ]
  },
  {
   "cell_type": "code",
   "execution_count": null,
   "metadata": {},
   "outputs": [],
   "source": [
    "# Try 1-2 changes to hidden layers - look for improvements\n",
    "# If yes, there were low hanging fruit worth my time\n",
    "# If no, go collect more images (start with image augmentation in keras)\n",
    "# Keras directory and my data setup should work perfectly"
   ]
  },
  {
   "cell_type": "code",
   "execution_count": null,
   "metadata": {},
   "outputs": [],
   "source": [
    "# Use Google Colab to run this"
   ]
  },
  {
   "cell_type": "code",
   "execution_count": null,
   "metadata": {},
   "outputs": [],
   "source": [
    "# Need more hidden layers/neurons"
   ]
  },
  {
   "cell_type": "code",
   "execution_count": null,
   "metadata": {},
   "outputs": [],
   "source": [
    "# Precision/recall"
   ]
  },
  {
   "cell_type": "code",
   "execution_count": null,
   "metadata": {},
   "outputs": [],
   "source": [
    "# Plot confusion matrix"
   ]
  },
  {
   "cell_type": "code",
   "execution_count": null,
   "metadata": {},
   "outputs": [],
   "source": [
    "# Image Data Augmentation"
   ]
  },
  {
   "cell_type": "code",
   "execution_count": null,
   "metadata": {},
   "outputs": [],
   "source": [
    "# Analysis of misclassifications"
   ]
  }
 ],
 "metadata": {
  "kernelspec": {
   "display_name": "Python 3",
   "language": "python",
   "name": "python3"
  },
  "language_info": {
   "codemirror_mode": {
    "name": "ipython",
    "version": 3
   },
   "file_extension": ".py",
   "mimetype": "text/x-python",
   "name": "python",
   "nbconvert_exporter": "python",
   "pygments_lexer": "ipython3",
   "version": "3.8.5"
  }
 },
 "nbformat": 4,
 "nbformat_minor": 4
}
