{
 "cells": [
  {
   "cell_type": "markdown",
   "metadata": {},
   "source": [
    "# Multiclass Food Image Classification with Convolutional Neural Networks"
   ]
  },
  {
   "cell_type": "markdown",
   "metadata": {},
   "source": [
    "### Technology & Skills\n",
    "**Technology** Python, Jupyter Notebook, GitHub, Git\n",
    "\n",
    "**Python Libraries:** Pandas, requests, time, urllib, sys, os, numpy, tensorflow, keras, scikit-learn, matplotlib\n",
    "\n",
    "**Technical Skills:** Multiclass classification, data collection, data cleaning, scraping web API, image processing, pre-processing, modeling, data visualization, exploratory data analysis (EDA), computer vision, deep learning, convolutional neural networks, neural network architecture, image data augmentation, accuracy, precision, recall, confusion matrix, pre-trained model, transfer learning, bias-variance tradeoff\n",
    "\n",
    "**Models:** Convolutional neural network, ResNet50, EfficientNet-B0"
   ]
  },
  {
   "cell_type": "markdown",
   "metadata": {},
   "source": [
    "### Overview\n",
    "The code notebooks contain the following 4 sections:\n",
    "1. Introduction\n",
    "2. Data Collection & Cleaning\n",
    "3. Pre-Processing, Modeling, Data Visualization & EDA\n",
    "4. Conclusion"
   ]
  },
  {
   "cell_type": "markdown",
   "metadata": {},
   "source": [
    "### Problem Statement\n",
    "In this project, I intend on building a convolutional neural network (CNN) to classify food images.\n",
    "\n",
    "In this project, I hope to accomplish the following objectives:\n",
    "- Collect and clean at least 200 images per food class for 5 classes using the pushshift.io Reddit API, and\n",
    "- Build convolutional neural networks from scratch and pre-trained, state of the art models to predict multiclass food classes with accuracy scores higher than that of the null model.\n",
    "\n",
    "For this multiclass classification problem, I aim to predict the following 5 classes:\n",
    "1. Burger\n",
    "2. Hotdog\n",
    "3. Pizza\n",
    "4. Taco\n",
    "5. Sushi\n",
    "\n",
    "I will be using the following subreddits to collect image data:\n",
    "- r/burgers (103k members)\n",
    "- r/hotdogs (19.5k members)\n",
    "- r/Pizza (309k members)\n",
    "- r/tacos (47.7k members)\n",
    "- r/sushi (226k members)\n",
    "\n",
    "The general workflow is as follows: image data --> multiclass outcome."
   ]
  },
  {
   "cell_type": "markdown",
   "metadata": {},
   "source": [
    "### Data Sources\n",
    "Given more resources, the optimal way to collect image data would have been through a web API for Google Images. Unfortunately, this would have required securing a bigger budget and navigating the nuances of the /robots.txt page for Google Images (which is very particular about what is and is not allowed). Thus, for practical reasons, I chose to collect the image data using the pushshift.io Reddit API. The links to the data have been provided below:\n",
    "- [r/burgers](https://api.pushshift.io/reddit/search/submission?subreddit=burgers): The pushshift.io Reddit API for r/burgers.\n",
    "- [r/hotdogs](https://api.pushshift.io/reddit/search/submission?subreddit=hotdogs): The pushshift.io Reddit API for r/hotdogs.\n",
    "- [r/Pizza](https://api.pushshift.io/reddit/search/submission?subreddit=Pizza): The pushshift.io Reddit API for r/Pizza.\n",
    "- [r/tacos](https://api.pushshift.io/reddit/search/submission?subreddit=tacos): The pushshift.io Reddit API for r/tacos.\n",
    "- [r/sushi](https://api.pushshift.io/reddit/search/submission?subreddit=sushi): The pushshift.io Reddit API for r/sushi."
   ]
  },
  {
   "cell_type": "markdown",
   "metadata": {},
   "source": [
    "### Data Dictionary"
   ]
  },
  {
   "cell_type": "markdown",
   "metadata": {},
   "source": [
    "|Feature|Type|Dataset|Description|\n",
    "|---|---|---|---|\n",
    "|subreddit|object|df|The name of the subreddit|\n",
    "|title|object|df|The contents of the post|\n",
    "|url|object|df|The url for the image|"
   ]
  }
 ],
 "metadata": {
  "kernelspec": {
   "display_name": "Python 3",
   "language": "python",
   "name": "python3"
  },
  "language_info": {
   "codemirror_mode": {
    "name": "ipython",
    "version": 3
   },
   "file_extension": ".py",
   "mimetype": "text/x-python",
   "name": "python",
   "nbconvert_exporter": "python",
   "pygments_lexer": "ipython3",
   "version": "3.8.5"
  }
 },
 "nbformat": 4,
 "nbformat_minor": 4
}
