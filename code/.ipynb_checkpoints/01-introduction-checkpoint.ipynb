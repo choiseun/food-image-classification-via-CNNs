{
 "cells": [
  {
   "cell_type": "markdown",
   "metadata": {},
   "source": [
    "# Recipe Recommender System"
   ]
  },
  {
   "cell_type": "markdown",
   "metadata": {},
   "source": [
    "### Technology & Skills\n",
    "**Technology** Python, Jupyter Notebook, GitHub, Git\n",
    "\n",
    "**Python Libraries:** Pandas, requests, time, urllib, sys, os, tensorflow (keras), scikit-learn, numpy, matplotlib\n",
    "\n",
    "**Technical Skills:** Multiclass classification, data collection, data cleaning, scraping web API, deep learning, convolutional neural networks, image processing, computer vision, transfer learning, confusion matrix\n",
    "\n",
    "**Models:** Convolutional neural network, ResNet50, EfficientNet"
   ]
  },
  {
   "cell_type": "markdown",
   "metadata": {},
   "source": [
    "### Overview\n",
    "The code notebooks contain the following 5 sections:\n",
    "1. Introduction\n",
    "2. Data Collection & Cleaning\n",
    "3. Pre-Processing & Modeling\n",
    "4. EDA & Data Visualization\n",
    "5. Conclusion"
   ]
  },
  {
   "cell_type": "markdown",
   "metadata": {},
   "source": [
    "### Problem Statement\n",
    "In this project, I intend on taking images of food, building a convolutional neural network (CNN) for image classification, and then recommending a generic recipe that details the ingredients and steps for preparing the dish.\n",
    "\n",
    "In this project, I hope to accomplish the following objectives:\n",
    "- Collect and clean at least 200 images per food class for 5 classes using the pushshift.io Reddit API,\n",
    "- Build a convolutional neural network from scratch to predict multiclass food classes with accuracy, precision, and recall scores that beat those of the null model, and\n",
    "- Recommend a recipe based on the predicted food class so that the user can understand the basic ingredients and process of food preparation required to make the dish.\n",
    "\n",
    "For this multiclass classification problem, I aim to predict the following 5 dishes:\n",
    "1. Hamburger\n",
    "2. Hot dog\n",
    "3. Pizza\n",
    "4. Taco\n",
    "5. Sushi\n",
    "\n",
    "I will be using the following subreddits to collect image data:\n",
    "- r/burgers (103k members)\n",
    "- r/hotdogs (19.5k members)\n",
    "- r/Pizza (309k members)\n",
    "- r/tacos (47.7k members)\n",
    "- r/sushi (226k members)"
   ]
  },
  {
   "cell_type": "markdown",
   "metadata": {},
   "source": [
    "### Data Sources\n",
    "Given more resources, the optimal way to collect image data would have been through a web API for Google Images. Unfortunately, this would have required securing a bigger budget and navigating the nuances of the /robots.txt page for Google Images (which is very particular about what is and is not allowed). Thus, for practical reasons, I chose to collect the image data using the pushshift.io Reddit API. The links to the data have been provided below:\n",
    "- [r/burgers](https://api.pushshift.io/reddit/search/submission?subreddit=burgers): The pushshift.io Reddit API for r/burgers.\n",
    "- [r/hotdogs](https://api.pushshift.io/reddit/search/submission?subreddit=hotdogs): The pushshift.io Reddit API for r/hotdogs.\n",
    "- [r/Pizza](https://api.pushshift.io/reddit/search/submission?subreddit=Pizza): The pushshift.io Reddit API for r/Pizza.\n",
    "- [r/tacos](https://api.pushshift.io/reddit/search/submission?subreddit=tacos): The pushshift.io Reddit API for r/tacos.\n",
    "- [r/sushi](https://api.pushshift.io/reddit/search/submission?subreddit=sushi): The pushshift.io Reddit API for r/sushi."
   ]
  },
  {
   "cell_type": "markdown",
   "metadata": {},
   "source": [
    "### Data Dictionary"
   ]
  },
  {
   "cell_type": "markdown",
   "metadata": {},
   "source": [
    "None - I am converting .jpg and .png files into arrays to input into my convolutional neural network."
   ]
  }
 ],
 "metadata": {
  "kernelspec": {
   "display_name": "Python 3",
   "language": "python",
   "name": "python3"
  },
  "language_info": {
   "codemirror_mode": {
    "name": "ipython",
    "version": 3
   },
   "file_extension": ".py",
   "mimetype": "text/x-python",
   "name": "python",
   "nbconvert_exporter": "python",
   "pygments_lexer": "ipython3",
   "version": "3.8.5"
  }
 },
 "nbformat": 4,
 "nbformat_minor": 4
}
