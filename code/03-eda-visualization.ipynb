{
 "cells": [
  {
   "cell_type": "markdown",
   "metadata": {},
   "source": [
    "# Pre-Processing & Modeling"
   ]
  },
  {
   "cell_type": "markdown",
   "metadata": {},
   "source": [
    "### Pre-Processing"
   ]
  },
  {
   "cell_type": "markdown",
   "metadata": {},
   "source": [
    "Referenced: https://git.generalassemb.ly/DSIR-Lancelot/8.04-lesson-cnns/blob/master/solution-code/02-cnn.ipynb"
   ]
  },
  {
   "cell_type": "code",
   "execution_count": 1,
   "metadata": {},
   "outputs": [],
   "source": [
    "# Imports\n",
    "import numpy as np\n",
    "import pandas as pd\n",
    "import matplotlib.pyplot as plt\n",
    "import os\n",
    "from sklearn.model_selection import train_test_split\n",
    "from tensorflow.keras.models import Sequential\n",
    "from tensorflow.keras.layers import Dense, Dropout, Flatten, Conv2D, MaxPooling2D\n",
    "from tensorflow.keras.preprocessing.image import img_to_array, load_img\n",
    "from tensorflow.keras.utils import to_categorical\n",
    "\n",
    "# For reproducibility\n",
    "np.random.seed(42)"
   ]
  },
  {
   "cell_type": "code",
   "execution_count": 2,
   "metadata": {},
   "outputs": [],
   "source": [
    "# Create a list for each food class\n",
    "burgers_arrays = []\n",
    "hotdogs_arrays = []\n",
    "pizza_arrays = []\n",
    "tacos_arrays = []\n",
    "sushi_arrays = []\n",
    "\n",
    "# Create a list of all food class arrays\n",
    "class_arrays = [burgers_arrays, hotdogs_arrays, pizza_arrays, tacos_arrays, sushi_arrays]\n",
    "\n",
    "# Create a list of strings containing the food classes\n",
    "food_classes = ['burgers', 'hotdogs', 'pizza', 'tacos', 'sushi']"
   ]
  },
  {
   "cell_type": "code",
   "execution_count": 3,
   "metadata": {},
   "outputs": [],
   "source": [
    "# Define a function that converts all images\n",
    "def image_converter(food_arrays, food_class):\n",
    "    food_path = f'../images/{food_class}/'\n",
    "    for file in os.listdir(food_path):\n",
    "        try:\n",
    "            image = load_img(food_path + file, target_size=(256, 256))\n",
    "            image_arr = img_to_array(image) / 255\n",
    "            food_arrays.append(image_arr)\n",
    "        except:\n",
    "            print(f'Error for file: {file}')\n",
    "    print(f'{len(food_arrays)} pictures have been converted for {food_class}.')"
   ]
  },
  {
   "cell_type": "code",
   "execution_count": 4,
   "metadata": {},
   "outputs": [
    {
     "name": "stdout",
     "output_type": "stream",
     "text": [
      "Error for file: .DS_Store\n",
      "282 pictures have been converted for burgers.\n",
      "Error for file: .DS_Store\n",
      "253 pictures have been converted for hotdogs.\n",
      "Error for file: .DS_Store\n",
      "276 pictures have been converted for pizza.\n",
      "Error for file: .DS_Store\n",
      "260 pictures have been converted for tacos.\n",
      "Error for file: .DS_Store\n",
      "268 pictures have been converted for sushi.\n"
     ]
    }
   ],
   "source": [
    "# Iterate through the image_converter function\n",
    "my_index = 0\n",
    "for food_class in class_arrays:\n",
    "    image_converter(food_class, food_classes[my_index])\n",
    "    my_index += 1"
   ]
  },
  {
   "cell_type": "markdown",
   "metadata": {},
   "source": [
    "### Modeling"
   ]
  },
  {
   "cell_type": "code",
   "execution_count": 5,
   "metadata": {},
   "outputs": [
    {
     "data": {
      "text/plain": [
       "(1339, 256, 256, 3)"
      ]
     },
     "execution_count": 5,
     "metadata": {},
     "output_type": "execute_result"
    }
   ],
   "source": [
    "# Define X\n",
    "X = burgers_arrays + hotdogs_arrays + pizza_arrays + tacos_arrays + sushi_arrays\n",
    "X = np.array(X)\n",
    "X.shape"
   ]
  },
  {
   "cell_type": "code",
   "execution_count": 9,
   "metadata": {},
   "outputs": [
    {
     "data": {
      "text/plain": [
       "(1339, 5)"
      ]
     },
     "execution_count": 9,
     "metadata": {},
     "output_type": "execute_result"
    }
   ],
   "source": [
    "# Define y\n",
    "# 0 for burger, 1 for hotdog, 2 for pizza, 3 for tacos, 4 for sushi\n",
    "y = [0]*282 + [1]*253 + [2]*276 + [3]*260 + [4]*268\n",
    "y = np.array(y)\n",
    "y = to_categorical(y)\n",
    "y.shape"
   ]
  },
  {
   "cell_type": "code",
   "execution_count": 10,
   "metadata": {},
   "outputs": [
    {
     "data": {
      "text/plain": [
       "0.210604929051531"
      ]
     },
     "execution_count": 10,
     "metadata": {},
     "output_type": "execute_result"
    }
   ],
   "source": [
    "# Baseline accuracy of majority class\n",
    "282/(282+253+276+260+268)"
   ]
  },
  {
   "cell_type": "code",
   "execution_count": 11,
   "metadata": {},
   "outputs": [],
   "source": [
    "# Train/test split\n",
    "X_train, X_test, y_train, y_test = train_test_split(X, y, random_state=42, stratify=y)"
   ]
  },
  {
   "cell_type": "code",
   "execution_count": 12,
   "metadata": {},
   "outputs": [],
   "source": [
    "# Reshape\n",
    "X_train = np.array(X_train)\n",
    "X_test = np.array(X_test)"
   ]
  },
  {
   "cell_type": "code",
   "execution_count": 13,
   "metadata": {},
   "outputs": [
    {
     "data": {
      "text/plain": [
       "(256, 256, 3)"
      ]
     },
     "execution_count": 13,
     "metadata": {},
     "output_type": "execute_result"
    }
   ],
   "source": [
    "# Check shape\n",
    "X_train[0].shape"
   ]
  },
  {
   "cell_type": "code",
   "execution_count": 14,
   "metadata": {},
   "outputs": [
    {
     "data": {
      "text/plain": [
       "(1004, 5)"
      ]
     },
     "execution_count": 14,
     "metadata": {},
     "output_type": "execute_result"
    }
   ],
   "source": [
    "# Check shape\n",
    "y_train.shape"
   ]
  },
  {
   "cell_type": "markdown",
   "metadata": {},
   "source": [
    "### Modeling"
   ]
  },
  {
   "cell_type": "code",
   "execution_count": 15,
   "metadata": {},
   "outputs": [
    {
     "name": "stdout",
     "output_type": "stream",
     "text": [
      "Epoch 1/3\n",
      "126/126 [==============================] - 211s 2s/step - loss: 2.8424 - acc: 0.1955 - val_loss: 1.6091 - val_acc: 0.2119\n",
      "Epoch 2/3\n",
      "126/126 [==============================] - 162s 1s/step - loss: 1.6135 - acc: 0.2160 - val_loss: 1.6077 - val_acc: 0.2328\n",
      "Epoch 3/3\n",
      "126/126 [==============================] - 151s 1s/step - loss: 1.5673 - acc: 0.3181 - val_loss: 1.5843 - val_acc: 0.2866\n"
     ]
    }
   ],
   "source": [
    "# Build a CNN model\n",
    "model = Sequential([\n",
    "    Conv2D(64, (4,4), activation='relu', input_shape=(X_train[0].shape)),\n",
    "    MaxPooling2D(pool_size=(2,2)),\n",
    "    Conv2D(64, (4,4), activation='relu'),\n",
    "    MaxPooling2D(pool_size=(2,2)),\n",
    "    Flatten(),\n",
    "    Dense(64, activation='relu'),\n",
    "    Dense(5, activation='softmax')\n",
    "])\n",
    "\n",
    "# Compile the model\n",
    "model.compile(optimizer='adam', loss='categorical_crossentropy', \n",
    "              metrics=['acc']) # 'Recall', 'Precision'\n",
    "\n",
    "# Fit the model\n",
    "results = model.fit(X_train, y_train, validation_data=(X_test, y_test),\n",
    "                   batch_size=8, epochs=3)"
   ]
  },
  {
   "cell_type": "code",
   "execution_count": null,
   "metadata": {},
   "outputs": [],
   "source": [
    "# Check model summary\n",
    "model.summary()"
   ]
  },
  {
   "cell_type": "markdown",
   "metadata": {},
   "source": [
    "### Post-Modeling"
   ]
  },
  {
   "cell_type": "code",
   "execution_count": null,
   "metadata": {},
   "outputs": [],
   "source": [
    "# probas = np.array([[0.4, 0.1, 0.5],[0.7, 0.2, 0.1],[0.3, 0.4, 0.3]])\n",
    "probas = model.predict(X_test)\n",
    "labels = np.argmax(probas, axis=-1)    \n",
    "print(labels)"
   ]
  },
  {
   "cell_type": "code",
   "execution_count": null,
   "metadata": {},
   "outputs": [],
   "source": []
  },
  {
   "cell_type": "code",
   "execution_count": null,
   "metadata": {},
   "outputs": [],
   "source": [
    "from sklearn.metrics import plot_confusion_matrix"
   ]
  },
  {
   "cell_type": "code",
   "execution_count": null,
   "metadata": {},
   "outputs": [],
   "source": [
    "# Predictions\n",
    "y_preds = model.predict(X_test)\n",
    "y_preds.shape"
   ]
  },
  {
   "cell_type": "code",
   "execution_count": null,
   "metadata": {},
   "outputs": [],
   "source": [
    "# Plot confusion matrix\n",
    "plot_confusion_matrix(model, y_preds, y_test)\n",
    "# labels=['burger', 'hotdog', 'pizza', 'tacos', 'sushi']"
   ]
  },
  {
   "cell_type": "code",
   "execution_count": null,
   "metadata": {},
   "outputs": [],
   "source": [
    "# Try 1-2 changes to hidden layers - look for improvements\n",
    "# If yes, there were low hanging fruit worth my time\n",
    "# If no, go collect more images (start with image augmentation in keras)\n",
    "# Keras directory and my data setup should work perfectly"
   ]
  },
  {
   "cell_type": "code",
   "execution_count": null,
   "metadata": {},
   "outputs": [],
   "source": [
    "# Use Google Colab to run this"
   ]
  },
  {
   "cell_type": "code",
   "execution_count": null,
   "metadata": {},
   "outputs": [],
   "source": [
    "# Need more hidden layers/neurons"
   ]
  },
  {
   "cell_type": "code",
   "execution_count": null,
   "metadata": {},
   "outputs": [],
   "source": [
    "# Precision/recall"
   ]
  },
  {
   "cell_type": "code",
   "execution_count": null,
   "metadata": {},
   "outputs": [],
   "source": []
  },
  {
   "cell_type": "code",
   "execution_count": null,
   "metadata": {},
   "outputs": [],
   "source": [
    "# Image Data Augmentation"
   ]
  },
  {
   "cell_type": "code",
   "execution_count": null,
   "metadata": {},
   "outputs": [],
   "source": [
    "# Analysis of misclassifications"
   ]
  }
 ],
 "metadata": {
  "kernelspec": {
   "display_name": "Python 3",
   "language": "python",
   "name": "python3"
  },
  "language_info": {
   "codemirror_mode": {
    "name": "ipython",
    "version": 3
   },
   "file_extension": ".py",
   "mimetype": "text/x-python",
   "name": "python",
   "nbconvert_exporter": "python",
   "pygments_lexer": "ipython3",
   "version": "3.8.5"
  }
 },
 "nbformat": 4,
 "nbformat_minor": 4
}
