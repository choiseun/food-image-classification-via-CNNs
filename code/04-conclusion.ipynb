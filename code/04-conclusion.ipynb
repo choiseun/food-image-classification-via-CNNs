{
 "cells": [
  {
   "cell_type": "markdown",
   "metadata": {},
   "source": [
    "# Conclusion\n",
    "In this project, I built numerous convolutional neural networks to predict multiple food classes for image data. While there were certainly many roadblocks that affected the scope of the project, such as computing power and a small dataset, I managed to develop a production model that could handily beat the null model on validation accuracy and gained insight into model performance and architecture. With more time and resources, the project can be expanded to achieve more useful applications. Regardless, this was a fun introduction to convolutional neural networks for image processing."
   ]
  },
  {
   "cell_type": "markdown",
   "metadata": {},
   "source": [
    "### Next Steps\n",
    "If expanded, this project can adopt multiple practical applications.\n",
    "\n",
    "If one were interested in a recipe recommender system, the user would provide the model with an image of ANY food in existence, and the model would accurately predict the name of the food and provide a generic recipe that details the ingredients and steps for preparing the food. This would be a useful tool for anyone trying a new dish/cuisine or people with specific dietary restrictions. \n",
    "\n",
    "If taken even further, the project could perform a similar function for any image object and provide a prediction for an unidentified object. This would be extremely helpful for those who are visually impaired.\n",
    "\n",
    "A third potential application would be to create a dinner recommender system. Based on the user's preference for a similar or dissimilar food class, the user would pass in a food image, and the recommender system would suggest options for dinner that resemble or differ to a specified degree from the provided image."
   ]
  }
 ],
 "metadata": {
  "kernelspec": {
   "display_name": "Python 3",
   "language": "python",
   "name": "python3"
  },
  "language_info": {
   "codemirror_mode": {
    "name": "ipython",
    "version": 3
   },
   "file_extension": ".py",
   "mimetype": "text/x-python",
   "name": "python",
   "nbconvert_exporter": "python",
   "pygments_lexer": "ipython3",
   "version": "3.8.5"
  }
 },
 "nbformat": 4,
 "nbformat_minor": 4
}
